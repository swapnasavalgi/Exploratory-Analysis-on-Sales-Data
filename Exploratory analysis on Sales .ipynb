{
 "cells": [
  {
   "cell_type": "code",
   "execution_count": 2,
   "metadata": {},
   "outputs": [
    {
     "data": {
      "text/plain": [
       "['SQL Server',\n",
       " 'PostgreSQL ANSI(x64)',\n",
       " 'PostgreSQL Unicode(x64)',\n",
       " 'Amazon Redshift (x64)',\n",
       " 'MySQL ODBC 8.0 ANSI Driver',\n",
       " 'MySQL ODBC 8.0 Unicode Driver',\n",
       " 'SQL Server Native Client 11.0',\n",
       " 'SQL Server Native Client RDA 11.0',\n",
       " 'ODBC Driver 17 for SQL Server']"
      ]
     },
     "execution_count": 2,
     "metadata": {},
     "output_type": "execute_result"
    }
   ],
   "source": [
    "import pyodbc\n",
    "import pandas as pd\n",
    "import matplotlib.pyplot as plt\n",
    "pyodbc.drivers()"
   ]
  },
  {
   "cell_type": "code",
   "execution_count": 3,
   "metadata": {},
   "outputs": [],
   "source": [
    "cnxn = pyodbc.connect(driver='{SQL Server}', host='LAPTOP-EGF03VVI', database='Radian',\n",
    "                      trusted_connection='tcon')"
   ]
  },
  {
   "cell_type": "code",
   "execution_count": 4,
   "metadata": {},
   "outputs": [],
   "source": [
    "cursor = cnxn.cursor()\n"
   ]
  },
  {
   "cell_type": "code",
   "execution_count": 5,
   "metadata": {},
   "outputs": [],
   "source": [
    "query = ''' \n",
    "SELECT \n",
    "DISTINCT b.[Category_Desc], b.[item_number], c.[WEEK_SAT],c.[Sales], c.[NetCost],\n",
    "c.[Markdown], c.[Quantity], c.STORE, c.[Weight]\n",
    "FROM [dbo].[CaseItemMaster] as b\n",
    "INNER JOIN [dbo].[CaseTransactions] as c\n",
    "ON b.upc = c.UPC\n",
    "INNER JOIN [dbo].[CaseStoreMaster] as a\n",
    "ON c.STORE = a.Store_Value\n",
    "WHERE a.Active = 'Y'AND\n",
    "NOT (a.District_Zone IS NULL \n",
    "OR b.brandname IS NULL\n",
    "OR b.[Category_Desc] IS NULL) AND \n",
    "b.item_status < '9'\n",
    "AND \n",
    "(c.Quantity > 0\n",
    "AND c.[Sales] > 0\n",
    "AND c.[NetCost] > 0\n",
    "AND c.[Markdown] > 0\n",
    "AND c.[Weight] > 0)\n",
    "\n",
    "'''\n",
    "\n"
   ]
  },
  {
   "cell_type": "markdown",
   "metadata": {},
   "source": [
    "Loading a data"
   ]
  },
  {
   "cell_type": "code",
   "execution_count": 6,
   "metadata": {},
   "outputs": [],
   "source": [
    "data = pd.read_sql(query, cnxn)"
   ]
  },
  {
   "cell_type": "code",
   "execution_count": 7,
   "metadata": {},
   "outputs": [
    {
     "data": {
      "text/html": [
       "<div>\n",
       "<style scoped>\n",
       "    .dataframe tbody tr th:only-of-type {\n",
       "        vertical-align: middle;\n",
       "    }\n",
       "\n",
       "    .dataframe tbody tr th {\n",
       "        vertical-align: top;\n",
       "    }\n",
       "\n",
       "    .dataframe thead th {\n",
       "        text-align: right;\n",
       "    }\n",
       "</style>\n",
       "<table border=\"1\" class=\"dataframe\">\n",
       "  <thead>\n",
       "    <tr style=\"text-align: right;\">\n",
       "      <th></th>\n",
       "      <th>Category_Desc</th>\n",
       "      <th>item_number</th>\n",
       "      <th>WEEK_SAT</th>\n",
       "      <th>Sales</th>\n",
       "      <th>NetCost</th>\n",
       "      <th>Markdown</th>\n",
       "      <th>Quantity</th>\n",
       "      <th>STORE</th>\n",
       "      <th>Weight</th>\n",
       "    </tr>\n",
       "  </thead>\n",
       "  <tbody>\n",
       "    <tr>\n",
       "      <th>0</th>\n",
       "      <td>SEAFOOD - FRESH BULK</td>\n",
       "      <td>651527</td>\n",
       "      <td>2014-12-06</td>\n",
       "      <td>43.35</td>\n",
       "      <td>18.270</td>\n",
       "      <td>13.03</td>\n",
       "      <td>8</td>\n",
       "      <td>40.0</td>\n",
       "      <td>4.34</td>\n",
       "    </tr>\n",
       "    <tr>\n",
       "      <th>1</th>\n",
       "      <td>MEAT -BEEF CERTIFIED TENDER</td>\n",
       "      <td>336138</td>\n",
       "      <td>2014-12-06</td>\n",
       "      <td>189.73</td>\n",
       "      <td>102.420</td>\n",
       "      <td>65.91</td>\n",
       "      <td>17</td>\n",
       "      <td>18.0</td>\n",
       "      <td>14.61</td>\n",
       "    </tr>\n",
       "    <tr>\n",
       "      <th>2</th>\n",
       "      <td>MEAT SERVICE  - BEEF</td>\n",
       "      <td>542810</td>\n",
       "      <td>2014-10-11</td>\n",
       "      <td>81.04</td>\n",
       "      <td>43.740</td>\n",
       "      <td>13.53</td>\n",
       "      <td>8</td>\n",
       "      <td>58.0</td>\n",
       "      <td>13.53</td>\n",
       "    </tr>\n",
       "    <tr>\n",
       "      <th>3</th>\n",
       "      <td>MEAT SERVICE  - BEEF</td>\n",
       "      <td>542808</td>\n",
       "      <td>2015-02-21</td>\n",
       "      <td>3.15</td>\n",
       "      <td>1.701</td>\n",
       "      <td>0.55</td>\n",
       "      <td>1</td>\n",
       "      <td>37.0</td>\n",
       "      <td>0.50</td>\n",
       "    </tr>\n",
       "    <tr>\n",
       "      <th>4</th>\n",
       "      <td>MEAT - BEEF ANGUS</td>\n",
       "      <td>493069</td>\n",
       "      <td>2015-03-21</td>\n",
       "      <td>377.89</td>\n",
       "      <td>204.039</td>\n",
       "      <td>125.79</td>\n",
       "      <td>26</td>\n",
       "      <td>1.0</td>\n",
       "      <td>62.05</td>\n",
       "    </tr>\n",
       "  </tbody>\n",
       "</table>\n",
       "</div>"
      ],
      "text/plain": [
       "                 Category_Desc item_number   WEEK_SAT   Sales  NetCost  \\\n",
       "0         SEAFOOD - FRESH BULK      651527 2014-12-06   43.35   18.270   \n",
       "1  MEAT -BEEF CERTIFIED TENDER      336138 2014-12-06  189.73  102.420   \n",
       "2         MEAT SERVICE  - BEEF      542810 2014-10-11   81.04   43.740   \n",
       "3         MEAT SERVICE  - BEEF      542808 2015-02-21    3.15    1.701   \n",
       "4            MEAT - BEEF ANGUS      493069 2015-03-21  377.89  204.039   \n",
       "\n",
       "   Markdown  Quantity  STORE  Weight  \n",
       "0     13.03         8   40.0    4.34  \n",
       "1     65.91        17   18.0   14.61  \n",
       "2     13.53         8   58.0   13.53  \n",
       "3      0.55         1   37.0    0.50  \n",
       "4    125.79        26    1.0   62.05  "
      ]
     },
     "execution_count": 7,
     "metadata": {},
     "output_type": "execute_result"
    }
   ],
   "source": [
    "data.head()"
   ]
  },
  {
   "cell_type": "markdown",
   "metadata": {},
   "source": [
    "# Data Cleaning"
   ]
  },
  {
   "cell_type": "code",
   "execution_count": 8,
   "metadata": {},
   "outputs": [],
   "source": [
    "#Rename the columns to make it consistent\n",
    "\n",
    "data.rename(columns = {'Category_Desc':'Categories','item_number':'Item_number','WEEK_SAT':'Week_Sat','STORE':'Store'}, inplace = True)"
   ]
  },
  {
   "cell_type": "code",
   "execution_count": 9,
   "metadata": {},
   "outputs": [
    {
     "data": {
      "text/html": [
       "<div>\n",
       "<style scoped>\n",
       "    .dataframe tbody tr th:only-of-type {\n",
       "        vertical-align: middle;\n",
       "    }\n",
       "\n",
       "    .dataframe tbody tr th {\n",
       "        vertical-align: top;\n",
       "    }\n",
       "\n",
       "    .dataframe thead th {\n",
       "        text-align: right;\n",
       "    }\n",
       "</style>\n",
       "<table border=\"1\" class=\"dataframe\">\n",
       "  <thead>\n",
       "    <tr style=\"text-align: right;\">\n",
       "      <th></th>\n",
       "      <th>Categories</th>\n",
       "      <th>Item_number</th>\n",
       "      <th>Week_Sat</th>\n",
       "      <th>Sales</th>\n",
       "      <th>NetCost</th>\n",
       "      <th>Markdown</th>\n",
       "      <th>Quantity</th>\n",
       "      <th>Store</th>\n",
       "      <th>Weight</th>\n",
       "    </tr>\n",
       "  </thead>\n",
       "  <tbody>\n",
       "    <tr>\n",
       "      <th>0</th>\n",
       "      <td>SEAFOOD - FRESH BULK</td>\n",
       "      <td>651527</td>\n",
       "      <td>2014-12-06</td>\n",
       "      <td>43.35</td>\n",
       "      <td>18.270</td>\n",
       "      <td>13.03</td>\n",
       "      <td>8</td>\n",
       "      <td>40.0</td>\n",
       "      <td>4.34</td>\n",
       "    </tr>\n",
       "    <tr>\n",
       "      <th>1</th>\n",
       "      <td>MEAT -BEEF CERTIFIED TENDER</td>\n",
       "      <td>336138</td>\n",
       "      <td>2014-12-06</td>\n",
       "      <td>189.73</td>\n",
       "      <td>102.420</td>\n",
       "      <td>65.91</td>\n",
       "      <td>17</td>\n",
       "      <td>18.0</td>\n",
       "      <td>14.61</td>\n",
       "    </tr>\n",
       "    <tr>\n",
       "      <th>2</th>\n",
       "      <td>MEAT SERVICE  - BEEF</td>\n",
       "      <td>542810</td>\n",
       "      <td>2014-10-11</td>\n",
       "      <td>81.04</td>\n",
       "      <td>43.740</td>\n",
       "      <td>13.53</td>\n",
       "      <td>8</td>\n",
       "      <td>58.0</td>\n",
       "      <td>13.53</td>\n",
       "    </tr>\n",
       "    <tr>\n",
       "      <th>3</th>\n",
       "      <td>MEAT SERVICE  - BEEF</td>\n",
       "      <td>542808</td>\n",
       "      <td>2015-02-21</td>\n",
       "      <td>3.15</td>\n",
       "      <td>1.701</td>\n",
       "      <td>0.55</td>\n",
       "      <td>1</td>\n",
       "      <td>37.0</td>\n",
       "      <td>0.50</td>\n",
       "    </tr>\n",
       "    <tr>\n",
       "      <th>4</th>\n",
       "      <td>MEAT - BEEF ANGUS</td>\n",
       "      <td>493069</td>\n",
       "      <td>2015-03-21</td>\n",
       "      <td>377.89</td>\n",
       "      <td>204.039</td>\n",
       "      <td>125.79</td>\n",
       "      <td>26</td>\n",
       "      <td>1.0</td>\n",
       "      <td>62.05</td>\n",
       "    </tr>\n",
       "  </tbody>\n",
       "</table>\n",
       "</div>"
      ],
      "text/plain": [
       "                    Categories Item_number   Week_Sat   Sales  NetCost  \\\n",
       "0         SEAFOOD - FRESH BULK      651527 2014-12-06   43.35   18.270   \n",
       "1  MEAT -BEEF CERTIFIED TENDER      336138 2014-12-06  189.73  102.420   \n",
       "2         MEAT SERVICE  - BEEF      542810 2014-10-11   81.04   43.740   \n",
       "3         MEAT SERVICE  - BEEF      542808 2015-02-21    3.15    1.701   \n",
       "4            MEAT - BEEF ANGUS      493069 2015-03-21  377.89  204.039   \n",
       "\n",
       "   Markdown  Quantity  Store  Weight  \n",
       "0     13.03         8   40.0    4.34  \n",
       "1     65.91        17   18.0   14.61  \n",
       "2     13.53         8   58.0   13.53  \n",
       "3      0.55         1   37.0    0.50  \n",
       "4    125.79        26    1.0   62.05  "
      ]
     },
     "execution_count": 9,
     "metadata": {},
     "output_type": "execute_result"
    }
   ],
   "source": [
    "data.head(5)"
   ]
  },
  {
   "cell_type": "code",
   "execution_count": 10,
   "metadata": {},
   "outputs": [
    {
     "name": "stdout",
     "output_type": "stream",
     "text": [
      "<class 'pandas.core.frame.DataFrame'>\n",
      "RangeIndex: 53826 entries, 0 to 53825\n",
      "Data columns (total 9 columns):\n",
      " #   Column       Non-Null Count  Dtype         \n",
      "---  ------       --------------  -----         \n",
      " 0   Categories   53826 non-null  object        \n",
      " 1   Item_number  53826 non-null  object        \n",
      " 2   Week_Sat     53826 non-null  datetime64[ns]\n",
      " 3   Sales        53826 non-null  float64       \n",
      " 4   NetCost      53826 non-null  float64       \n",
      " 5   Markdown     53826 non-null  float64       \n",
      " 6   Quantity     53826 non-null  int64         \n",
      " 7   Store        53826 non-null  float64       \n",
      " 8   Weight       53826 non-null  float64       \n",
      "dtypes: datetime64[ns](1), float64(5), int64(1), object(2)\n",
      "memory usage: 3.7+ MB\n"
     ]
    }
   ],
   "source": [
    "data.info()"
   ]
  },
  {
   "cell_type": "code",
   "execution_count": 11,
   "metadata": {
    "scrolled": true
   },
   "outputs": [
    {
     "data": {
      "text/plain": [
       "Categories     0\n",
       "Item_number    0\n",
       "Week_Sat       0\n",
       "Sales          0\n",
       "NetCost        0\n",
       "Markdown       0\n",
       "Quantity       0\n",
       "Store          0\n",
       "Weight         0\n",
       "dtype: int64"
      ]
     },
     "execution_count": 11,
     "metadata": {},
     "output_type": "execute_result"
    }
   ],
   "source": [
    "data.isnull().sum()"
   ]
  },
  {
   "cell_type": "code",
   "execution_count": 12,
   "metadata": {},
   "outputs": [],
   "source": [
    "#Extracting the years and months from Week_Sat datetime index for future use\n",
    "data['Week_Sat'] = pd.to_datetime(data['Week_Sat'])\n",
    "data['Year'] = data['Week_Sat'].dt.year\n"
   ]
  },
  {
   "cell_type": "markdown",
   "metadata": {},
   "source": [
    "# Exploratory Data Analysis"
   ]
  },
  {
   "cell_type": "markdown",
   "metadata": {},
   "source": [
    "Which categories have highest markdown rate"
   ]
  },
  {
   "cell_type": "code",
   "execution_count": 13,
   "metadata": {},
   "outputs": [],
   "source": [
    "new_df =  pd.DataFrame(data[['Markdown','Categories','Year']]).copy()"
   ]
  },
  {
   "cell_type": "code",
   "execution_count": 14,
   "metadata": {},
   "outputs": [],
   "source": [
    "Best_Categories = new_df.groupby(['Categories','Year'])['Markdown'].sum().reset_index()"
   ]
  },
  {
   "cell_type": "code",
   "execution_count": 15,
   "metadata": {},
   "outputs": [
    {
     "data": {
      "text/html": [
       "<div>\n",
       "<style scoped>\n",
       "    .dataframe tbody tr th:only-of-type {\n",
       "        vertical-align: middle;\n",
       "    }\n",
       "\n",
       "    .dataframe tbody tr th {\n",
       "        vertical-align: top;\n",
       "    }\n",
       "\n",
       "    .dataframe thead th {\n",
       "        text-align: right;\n",
       "    }\n",
       "</style>\n",
       "<table border=\"1\" class=\"dataframe\">\n",
       "  <thead>\n",
       "    <tr style=\"text-align: right;\">\n",
       "      <th></th>\n",
       "      <th>Categories</th>\n",
       "      <th>Year</th>\n",
       "      <th>Markdown</th>\n",
       "    </tr>\n",
       "  </thead>\n",
       "  <tbody>\n",
       "    <tr>\n",
       "      <th>31</th>\n",
       "      <td>MEAT - FRESH PORK</td>\n",
       "      <td>2015</td>\n",
       "      <td>521590.13</td>\n",
       "    </tr>\n",
       "    <tr>\n",
       "      <th>23</th>\n",
       "      <td>MEAT - BEEF GROUND</td>\n",
       "      <td>2015</td>\n",
       "      <td>475853.07</td>\n",
       "    </tr>\n",
       "    <tr>\n",
       "      <th>27</th>\n",
       "      <td>MEAT - FRESH CHICKEN</td>\n",
       "      <td>2015</td>\n",
       "      <td>383155.15</td>\n",
       "    </tr>\n",
       "    <tr>\n",
       "      <th>19</th>\n",
       "      <td>MEAT - BEEF ANGUS</td>\n",
       "      <td>2015</td>\n",
       "      <td>307586.31</td>\n",
       "    </tr>\n",
       "    <tr>\n",
       "      <th>38</th>\n",
       "      <td>MEAT - SMOKED</td>\n",
       "      <td>2015</td>\n",
       "      <td>252372.86</td>\n",
       "    </tr>\n",
       "  </tbody>\n",
       "</table>\n",
       "</div>"
      ],
      "text/plain": [
       "              Categories  Year   Markdown\n",
       "31     MEAT - FRESH PORK  2015  521590.13\n",
       "23    MEAT - BEEF GROUND  2015  475853.07\n",
       "27  MEAT - FRESH CHICKEN  2015  383155.15\n",
       "19     MEAT - BEEF ANGUS  2015  307586.31\n",
       "38         MEAT - SMOKED  2015  252372.86"
      ]
     },
     "execution_count": 15,
     "metadata": {},
     "output_type": "execute_result"
    }
   ],
   "source": [
    "#Top Categories that have highest markdown rate \n",
    "Best_Categories.sort_values(['Markdown'],ascending = False).head()"
   ]
  },
  {
   "cell_type": "markdown",
   "metadata": {},
   "source": [
    "Which Categories are declining more than 30% year over year"
   ]
  },
  {
   "cell_type": "code",
   "execution_count": null,
   "metadata": {},
   "outputs": [],
   "source": [
    "declining_df = pd.DataFrame(data[['Categories','Year','Sales']]).copy()"
   ]
  },
  {
   "cell_type": "code",
   "execution_count": null,
   "metadata": {
    "scrolled": true
   },
   "outputs": [],
   "source": [
    "decliningrate = pd.DataFrame(declining_df.groupby(['Year','Categories']).agg({'Sales':'sum'}))\n",
    "#Sales_pcts = decliningrate.groupby(level=1).apply(lambda x:\n",
    "#                                                 100 * x / float(x.sum()))            \n",
    "\n",
    "decliningrate.sort_values(by = ['Year','Sales'], ascending = False).round(1)"
   ]
  },
  {
   "cell_type": "code",
   "execution_count": null,
   "metadata": {},
   "outputs": [],
   "source": [
    "conditional = Sales_pcts[Sales_pcts['Sales'] < 30.0]\n",
    "conditional"
   ]
  },
  {
   "cell_type": "markdown",
   "metadata": {},
   "source": [
    "Biggest Categories by Sales,Volume and Margin"
   ]
  },
  {
   "cell_type": "code",
   "execution_count": null,
   "metadata": {},
   "outputs": [],
   "source": [
    "Net_Sales = data['Sales']- data['Markdown']\n",
    "Net_Profit = Net_Sales - data['NetCost']\n",
    "data['Margin'] = Net_Profit / Net_Sales"
   ]
  },
  {
   "cell_type": "code",
   "execution_count": null,
   "metadata": {},
   "outputs": [],
   "source": [
    "data"
   ]
  },
  {
   "cell_type": "code",
   "execution_count": null,
   "metadata": {},
   "outputs": [],
   "source": [
    "sales = pd.DataFrame(data[['Categories','Sales']])\n",
    "cat_sales = pd.DataFrame(sales.groupby('Categories')['Sales'].sum())\n",
    "cat_sales.sort_values(['Sales'],ascending =False).head()"
   ]
  },
  {
   "cell_type": "code",
   "execution_count": null,
   "metadata": {},
   "outputs": [],
   "source": [
    "weight = pd.DataFrame(data[['Categories','Weight']])\n",
    "cat_weight = pd.DataFrame(sales.groupby('Categories')['Weight'].sum())\n",
    "cat_weight.sort_values(['Weight'],ascending =False).head()"
   ]
  },
  {
   "cell_type": "code",
   "execution_count": null,
   "metadata": {},
   "outputs": [],
   "source": [
    "margin = pd.DataFrame(data[['Categories','Margin']])\n",
    "cat_margin = pd.DataFrame(margin.groupby('Categories')['Margin'].sum())\n",
    "cat_margin.sort_values(['Margin'],ascending =False).head()"
   ]
  },
  {
   "cell_type": "markdown",
   "metadata": {},
   "source": [
    "What are the best and worst 10 stores based on Sales (Year over Year – henceforth YoY)"
   ]
  },
  {
   "cell_type": "code",
   "execution_count": null,
   "metadata": {},
   "outputs": [],
   "source": [
    "#Creating a new dataframe for topstores \n",
    "Topstores = pd.DataFrame(data.groupby(['Year','Store']).sum()['Sales']).reset_index().sort_values('Sales', ascending = False)\n",
    "Topstores['Store'] = Topstores['Store'].astype('category')"
   ]
  },
  {
   "cell_type": "code",
   "execution_count": null,
   "metadata": {},
   "outputs": [],
   "source": [
    "#Top 10 best\n",
    "Topstores['DifferenceYoY'] = pd.DataFrame(Topstores['Sales'].diff())\n",
    "Topstores[Topstores['Year']==2015]"
   ]
  },
  {
   "cell_type": "code",
   "execution_count": null,
   "metadata": {},
   "outputs": [],
   "source": [
    "Topstores['DifferenceYoY'] = pd.DataFrame(Topstores['Sales'].diff())\n",
    "Topstores[Topstores['Year']==2014]"
   ]
  },
  {
   "cell_type": "markdown",
   "metadata": {},
   "source": [
    "Rank all Stores based on Sales, Volume, Margin , Sales Yoy , VolumeYoy, Marging Yoy"
   ]
  },
  {
   "cell_type": "code",
   "execution_count": null,
   "metadata": {},
   "outputs": [],
   "source": [
    "Rank_Tables =pd.DataFrame(data[['Year','Store','Sales','Weight','Margin']]).copy()\n",
    "Rank_Tables['MarginYoY'] = Rank_Tables['Margin'].diff()\n",
    "Rank_Tables['WeightYoY']= Rank_Tables['Weight'].diff()\n",
    "Rank_Tables['SalesYoY'] = Rank_Tables['Sales'].diff()"
   ]
  },
  {
   "cell_type": "code",
   "execution_count": null,
   "metadata": {},
   "outputs": [],
   "source": [
    "cols = ['Sales', 'Weight', 'Margin', 'MarginYoY', 'WeightYoY',\n",
    "       'SalesYoY']\n",
    "\n",
    "stores_rank = pd.pivot_table(Rank_Tables, index = 'Store',columns = 'Year',aggfunc = 'mean', values = cols)\n",
    "stores_rank"
   ]
  },
  {
   "cell_type": "code",
   "execution_count": null,
   "metadata": {
    "scrolled": true
   },
   "outputs": [],
   "source": [
    "stores_rank.rank(ascending = False)"
   ]
  }
 ],
 "metadata": {
  "kernelspec": {
   "display_name": "Python 3",
   "language": "python",
   "name": "python3"
  },
  "language_info": {
   "codemirror_mode": {
    "name": "ipython",
    "version": 3
   },
   "file_extension": ".py",
   "mimetype": "text/x-python",
   "name": "python",
   "nbconvert_exporter": "python",
   "pygments_lexer": "ipython3",
   "version": "3.8.8"
  }
 },
 "nbformat": 4,
 "nbformat_minor": 2
}
